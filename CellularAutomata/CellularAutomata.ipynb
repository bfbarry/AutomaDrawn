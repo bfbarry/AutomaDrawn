{
 "cells": [
  {
   "cell_type": "markdown",
   "metadata": {},
   "source": [
    "# One dimensional elementary cellular automata - with a twist!\n",
    "\n",
    "While the resulting image may appear to be 2 dimensional, this system is in fact one dimensional, where each time step is stacked underneath the last.\n",
    "\n",
    "Let's start with cell states. Because the state of a cell is binary (on or off), every cell neighborhood (3 adjacent cells) can look like one of 8 = 2<sup>3</sup> possible configugrations.\n",
    "\n",
    "<img src='./img/bits.png' style=\"display: block; margin-left: auto; margin-right: auto;\"> </img>\n",
    "\n",
    "Now all we need is a *rule*. A rule is any integer up to 256 converted to binary, thus looking like a byte. \n",
    "\n",
    "Rule '30' for instance, would look like \n",
    "`00011110`\n",
    "\n",
    "Now, remember the set of all permutations for 3-bit sequences (neighborhoods) from earlier? Conserving their order (which can be stored in a tuple `('111','110','101','100','011','010','001','000')`), each of these is now mapped to an individual bit in the binary rule, the latter determining how the center cell in each neighborhood should evolve in time. Using rule 30 (`00011110`) for instance, if one neighborhood of one time step (remember, each time step is a long strip of bits) looks like the fourth neighborhood of our tuple - `100` -, then this should map to the fourth bit of the rule - which is 1. Because the rules only affect the center cell of the neighborhood, the same neighborhood in the next time step will look like `010`, or a shift to the right.\n",
    "\n",
    "Thus, after one time step, the system's evolution (*only considering* the `100` neighborhood) will look as follows: \n",
    "\n",
    "<img src='./img/evol.png' style=\"display: block; margin-left: auto; margin-right: auto;\"> </img>\n",
    "\n",
    "Given the the amount of rules you can select, and the different possible combinations of adjacent neighborhoods, you might conjecture how complex this system really is. If we let this system run for multiple time steps, some pretty rad patterns begin to develop. Using rule 30, and a width of 100 pixels, let's see what happens after 100 steps if we start with just one pixel in the center:\n",
    "\n",
    "<img src='./img/rule30.png' style=\"display: block; margin-left: auto; margin-right: auto;\"> </img>\n",
    "\n",
    "Pretty rad indeed. If you zoom in at the second step you will notice that it's different than what I illustrated above. This is because I was only considering the `100` neighborhood to break things down. But depending on where you are looking – as you \"slide\" across the state – that single cell can either be interpreted as `100`, `010`, or `001`. In the rule, these all map to `1`, thus the second step in rule 30 is really `111`.  (Fun fact: rule 30's output is strikingly similar to the [_Conus Textile_ seashell pattern](https://upload.wikimedia.org/wikipedia/commons/thumb/7/7d/Textile_cone.JPG/440px-Textile_cone.JPG), and more importantly exhibits [*chaos*](https://www.wikiwand.com/en/Chaos_theory).) \n",
    "\n",
    "Each rule has a unique output, [some more unique than others](https://mathworld.wolfram.com/ElementaryCellularAutomaton.html). The incredible emergence of patterns has led some people to research the mechanisms behind this pattern creation in depth, notably the \"inventor\" of the cellular automata himself, [Stephen Wolfram](https://www.youtube.com/watch?v=VguG_y05Xe8).\n",
    "\n",
    "For my design, I decided to take one step further and see what would happen if we _combined_ rules. (Given that a \"combination\" of rules is open to interpretation, there are probably several approaches to this.) I thought that randomly switching between given rules at each timestep might yield some interesting results. After playing around with several combinations, my favorite was a mixture of 169 and 225.\n",
    "\n",
    "# Code\n",
    "\n",
    "I implemented a CellularAutomaton class, as I thought this might consolidate functionality by sharing parameters between methods.\n",
    "\n",
    "Please play around with the code (visit the Colab link above or clone this [repository](https://github.com/bfbarry/DesignCell)) by changing the width, length of time, and rule(s). Optionally, you can also pass in an initial condition in the `CellularAutomaton.run` method, instead of the default center cell."
   ]
  },
  {
   "cell_type": "code",
   "execution_count": 1,
   "metadata": {
    "execution": {
     "iopub.execute_input": "2021-08-30T17:23:25.141418Z",
     "iopub.status.busy": "2021-08-30T17:23:25.140526Z",
     "iopub.status.idle": "2021-08-30T17:23:26.438827Z",
     "shell.execute_reply": "2021-08-30T17:23:26.437601Z",
     "shell.execute_reply.started": "2021-08-30T17:23:25.141346Z"
    }
   },
   "outputs": [],
   "source": [
    "import numpy as np\n",
    "import matplotlib.pyplot as plt"
   ]
  },
  {
   "cell_type": "code",
   "execution_count": 4,
   "metadata": {
    "execution": {
     "iopub.execute_input": "2021-08-30T17:27:25.885898Z",
     "iopub.status.busy": "2021-08-30T17:27:25.885348Z",
     "iopub.status.idle": "2021-08-30T17:27:36.468096Z",
     "shell.execute_reply": "2021-08-30T17:27:36.466851Z",
     "shell.execute_reply.started": "2021-08-30T17:27:25.885830Z"
    }
   },
   "outputs": [
    {
     "data": {
      "image/png": "[encoded data removed]",
      "text/plain": [
       "<Figure size 1152x1152 with 1 Axes>"
      ]
     },
     "metadata": {
      "needs_background": "light"
     },
     "output_type": "display_data"
    }
   ],
   "source": [
    "class CellularAutomaton:\n",
    "    def __init__(self, rule = None):\n",
    "        \"\"\"If rule is sequence, then randomly changes between generated rulesets in self.run() \"\"\"\n",
    "        #creating rule table\n",
    "        if type(rule) == int:\n",
    "            self.make_ruleset(rule)\n",
    "        self.rule = rule\n",
    "        \n",
    "    def make_ruleset(self, _rule):\n",
    "        \"\"\"Generates a hash table of form {current_neighborhood_configuration : state_in_next_iteration, ... }\"\"\"\n",
    "        _rule = bin(_rule)[2:] \n",
    "        while len(_rule) is not 8: #to ensure proper byte length of rule\n",
    "            _rule = '0' + _rule\n",
    "        \n",
    "        neighbors = ('111','110','101','100','011','010','001','000')\n",
    "        ruleset = dict.fromkeys(neighbors)\n",
    "        for neighbor, bit in zip(neighbors, _rule):\n",
    "            ruleset[neighbor] = bit\n",
    "\n",
    "        self.ruleset = ruleset\n",
    "        \n",
    "    def update(self, current_state):\n",
    "        \"\"\"given current_state (a 1d line of pixels) returns next state in time\"\"\"\n",
    "        new_state = [0 for i in range(len(current_state))]\n",
    "        for i in range(1,len(current_state) - 2): #avoiding edges\n",
    "            l,c,r = current_state[i - 1], current_state[i], current_state[i + 1]\n",
    "            new_state[i] = int(self.ruleset[f'{l}{c}{r}'])\n",
    "        return new_state\n",
    "\n",
    "    def run(self, lifetime, width, t0 = None, xlim=None):\n",
    "        \"\"\"\n",
    "        Simulates the cellular automaton over time\n",
    "        lifetime: number of steps\n",
    "        width: width of state\n",
    "        t0: initial condition (optional)\n",
    "        \"\"\"\n",
    "        grid = [] #really a bunch of 1d state arrays\n",
    "        if t0 is None:\n",
    "            t0 = [0 for i in range(width)]\n",
    "            t0[int(width/2)] = 1\n",
    "\n",
    "        grid.append(t0)\n",
    "        current_state = t0\n",
    "        for t in range(lifetime):\n",
    "            if type(self.rule) != int: # if given multiple rules to switch between\n",
    "                self.make_ruleset(np.random.choice(self.rule))\n",
    "            current_state = self.update(current_state)\n",
    "            grid.append(current_state)\n",
    "            \n",
    "        plt.imshow(grid,cmap='cool')\n",
    "        if xlim:\n",
    "            plt.xlim(xlim)\n",
    "        plt.axis('off')\n",
    "        save = False\n",
    "        if save:\n",
    "            plt.savefig('img/CA.png', dpi=500, bbox_inches='tight')\n",
    "        plt.show()\n",
    "\n",
    "x = CellularAutomaton(rule = (169,225))\n",
    "plt.figure(figsize=[16,16])\n",
    "x.run(lifetime=400, width=600, xlim=(200,400))"
   ]
  },
  {
   "cell_type": "markdown",
   "metadata": {},
   "source": [
    "## Acknowledgements\n",
    "\n",
    "Shout out to Daniel Shiffman for his simple explanation of cellular automata in his online book, [_The Nature of Code_](https://natureofcode.com/book/chapter-7-cellular-automata/)."
   ]
  }
 ],
 "metadata": {
  "kernelspec": {
   "display_name": "Python 3",
   "language": "python",
   "name": "python3"
  },
  "language_info": {
   "codemirror_mode": {
    "name": "ipython",
    "version": 3
   },
   "file_extension": ".py",
   "mimetype": "text/x-python",
   "name": "python",
   "nbconvert_exporter": "python",
   "pygments_lexer": "ipython3",
   "version": "3.7.4"
  }
 },
 "nbformat": 4,
 "nbformat_minor": 4
}

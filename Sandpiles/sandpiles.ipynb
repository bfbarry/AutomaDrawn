{
 "cells": [
  {
   "cell_type": "code",
   "execution_count": 2,
   "metadata": {
    "execution": {
     "iopub.execute_input": "2021-07-29T01:45:24.561147Z",
     "iopub.status.busy": "2021-07-29T01:45:24.560817Z",
     "iopub.status.idle": "2021-07-29T01:45:26.072336Z",
     "shell.execute_reply": "2021-07-29T01:45:26.071115Z",
     "shell.execute_reply.started": "2021-07-29T01:45:24.561112Z"
    }
   },
   "outputs": [],
   "source": [
    "import numpy as np\n",
    "import matplotlib.pyplot as plt"
   ]
  },
  {
   "cell_type": "code",
   "execution_count": 6,
   "metadata": {
    "execution": {
     "iopub.execute_input": "2021-07-29T01:47:55.160124Z",
     "iopub.status.busy": "2021-07-29T01:47:55.159789Z",
     "iopub.status.idle": "2021-07-29T01:47:55.189785Z",
     "shell.execute_reply": "2021-07-29T01:47:55.187928Z",
     "shell.execute_reply.started": "2021-07-29T01:47:55.160089Z"
    }
   },
   "outputs": [],
   "source": [
    "# from https://rosettacode.org/wiki/Abelian_sandpile_model#Python\n",
    "class AbelianSandpile:\n",
    "    def __init__(self, size, ic, snn = False):\n",
    "        \"\"\"\n",
    "        Initialize initial grid size (width) and initial starting amount ic\n",
    "\n",
    "        if ic is a list, initializes with random initial conditions with parameters:\n",
    "        [%percent of grid initiated, number of grains at each burst, variability in drop size: if 1 all are same size]\n",
    "        \"\"\"\n",
    "        self.size = size\n",
    "        self.grid = np.zeros((size,size), int)\n",
    "\n",
    "        if type(ic) in [list, tuple]: #still have to implement var in drop size\n",
    "            pcnt_on = ic[0]\n",
    "            num_rand = int(size*size*pcnt_on)\n",
    "            self.rand_loc = self.gen_rand_coords(num_rand)\n",
    "            for coord in self.rand_loc:\n",
    "                x, y = coord[0], coord[1]\n",
    "                self.grid[x][y] = ic[1]\n",
    "\n",
    "        else:\n",
    "            i1, i2 = int(size/2 - 1), int(size/2)\n",
    "            self.grid[i1:i2, i1:i2] = ic #so it starts somewhere near the center\n",
    "\n",
    "\n",
    "    def gen_rand_coords(self, num_rand):\n",
    "        \"\"\"helper function to generate random coordinates\"\"\"\n",
    "        rand_loc = []\n",
    "        def recursive_gen():\n",
    "            for i in np.arange(num_rand):\n",
    "                rand_coord = list(np.random.randint(0,self.size,2))\n",
    "                if len(rand_loc) == num_rand:\n",
    "                    break\n",
    "                if rand_coord not in rand_loc:\n",
    "                    rand_loc.append(rand_coord)\n",
    "                else:\n",
    "                    recursive_gen()\n",
    "        recursive_gen()\n",
    "        return rand_loc\n",
    "\n",
    "    def iterate(self, grid, save_evol):\n",
    "        changed = False\n",
    "        for i, row in enumerate(grid):\n",
    "            for j, height in enumerate(row):\n",
    "                if height > 3:\n",
    "                    grid[i,j] -= 4\n",
    "\n",
    "                    if i > 0:\n",
    "                        grid[i - 1, j] += 1\n",
    "                    if i < len(grid)-1:\n",
    "                        grid[i + 1, j] += 1\n",
    "                    if j > 0:\n",
    "                        grid[i, j - 1] += 1\n",
    "                    if j < len(grid)-1:\n",
    "                        grid[i, j + 1] += 1\n",
    "\n",
    "                    changed = True\n",
    "\n",
    "        return grid, changed\n",
    "\n",
    "    def simulate(self, save_evol):\n",
    "        grid = self.grid.copy()\n",
    "        t = 0\n",
    "        while True:\n",
    "            grid, changed = self.iterate(grid, save_evol)\n",
    "            if not changed:\n",
    "                return grid\n",
    "\n",
    "    def run(self, save_evol = False):\n",
    "        \"\"\"save_evol saves each time point.  if snn, does this automatically\"\"\"\n",
    "        final_grid = self.simulate(save_evol)\n",
    "        plt.figure(figsize=(12,8))\n",
    "        plt.subplot(1,2,1)\n",
    "        plt.gray()\n",
    "        plt.imshow(self.grid)\n",
    "        plt.subplot(1,2,2)\n",
    "        plt.gray()\n",
    "        plt.imshow(final_grid)\n",
    "        plt.show()\n",
    "\n",
    "        return final_grid"
   ]
  },
  {
   "cell_type": "code",
   "execution_count": 10,
   "metadata": {
    "execution": {
     "iopub.execute_input": "2021-07-29T03:04:15.841940Z",
     "iopub.status.busy": "2021-07-29T03:04:15.836790Z",
     "iopub.status.idle": "2021-07-29T03:14:29.170296Z",
     "shell.execute_reply": "2021-07-29T03:14:29.168394Z",
     "shell.execute_reply.started": "2021-07-29T03:04:15.841760Z"
    }
   },
   "outputs": [
    {
     "data": {
      "image/png": "[encoded data removed]",
      "text/plain": [
       "<Figure size 864x576 with 2 Axes>"
      ]
     },
     "metadata": {
      "needs_background": "light"
     },
     "output_type": "display_data"
    }
   ],
   "source": [
    "sandy = AbelianSandpile(400, 10000)\n",
    "x = sandy.run()"
   ]
  },
  {
   "cell_type": "code",
   "execution_count": null,
   "metadata": {},
   "outputs": [],
   "source": []
  }
 ],
 "metadata": {
  "kernelspec": {
   "display_name": "Python 3",
   "language": "python",
   "name": "python3"
  },
  "language_info": {
   "codemirror_mode": {
    "name": "ipython",
    "version": 3
   },
   "file_extension": ".py",
   "mimetype": "text/x-python",
   "name": "python",
   "nbconvert_exporter": "python",
   "pygments_lexer": "ipython3",
   "version": "3.7.4"
  }
 },
 "nbformat": 4,
 "nbformat_minor": 4
}

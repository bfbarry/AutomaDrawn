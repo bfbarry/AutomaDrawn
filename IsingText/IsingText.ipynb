{
 "cells": [
  {
   "cell_type": "code",
   "execution_count": 1,
   "metadata": {
    "execution": {
     "iopub.execute_input": "2021-05-11T22:36:31.298819Z",
     "iopub.status.busy": "2021-05-11T22:36:31.298468Z",
     "iopub.status.idle": "2021-05-11T22:36:31.928742Z",
     "shell.execute_reply": "2021-05-11T22:36:31.927201Z",
     "shell.execute_reply.started": "2021-05-11T22:36:31.298778Z"
    }
   },
   "outputs": [],
   "source": [
    "import numpy as np\n",
    "import matplotlib.pyplot as plt\n",
    "import matplotlib.image as mpimg\n",
    "from IPython.display import clear_output"
   ]
  },
  {
   "cell_type": "code",
   "execution_count": 40,
   "metadata": {
    "execution": {
     "iopub.execute_input": "2021-05-11T22:47:33.979823Z",
     "iopub.status.busy": "2021-05-11T22:47:33.979230Z",
     "iopub.status.idle": "2021-05-11T22:47:34.006970Z",
     "shell.execute_reply": "2021-05-11T22:47:34.000075Z",
     "shell.execute_reply.started": "2021-05-11T22:47:33.979744Z"
    }
   },
   "outputs": [],
   "source": [
    "def metropolis_ising(T,runtime,N=None,grid=None,animate=False):\n",
    "    \"\"\"grid: if you choose to initialize with previous image\"\"\"\n",
    "    J = 1 #strength of interaction (Joules)\n",
    "    k = 1 # Joules per kelvin\n",
    "    if grid is not None:\n",
    "        N1,N2 = grid.shape[0], grid.shape[1]\n",
    "    else:\n",
    "        grid = 2*np.random.randint(2, size = (N1,N2)) - 1 #random initial configuration with 1s and -1s\n",
    "        \n",
    "    for t in range(runtime):\n",
    "        #sum of interactions at each spin site (vectorized!)\n",
    "        interactions = sum([np.roll(grid,shift =(0, 1), axis = 1),\n",
    "                            np.roll(grid,shift =(0, -1), axis = 1),\n",
    "                            np.roll(grid,shift =(1, 0), axis = 0), # have to change axis because unlike MATLAB's circshift, np.roll sees shifts (0,1) == (1,0)\n",
    "                            np.roll(grid,shift =(-1, 0), axis = 0)])\n",
    "        # change in energy of flipping a spin\n",
    "        DeltaE = 2 * J * (grid * interactions) # element wise multiplication\n",
    "        # transition probabilities\n",
    "        p_trans = np.exp(-DeltaE/(k * T)) # according to the Boltzmann distribution\n",
    "        # accepting or rejecting spin flips in one fell swoop!\n",
    "        # assigning uniformly distributed values to each site, then checking if they are less than transition prob or less than 0.1?\n",
    "        transitions = (np.random.random((N1,N2)) < p_trans ) * (np.random.random((N1,N2)) < 0.1) * -2 + 1\n",
    "        grid = grid * transitions\n",
    "        if animate:\n",
    "            plt.figure(figsize=(6,6)) \n",
    "            plt.imshow(grid,cmap='gray')\n",
    "            plt.axis('off')\n",
    "            clear_output(wait=True)\n",
    "            plt.show()\n",
    "    if not animate:\n",
    "        plt.figure(figsize=(8,8)) \n",
    "        plt.imshow(grid,cmap='winter')\n",
    "        plt.axis('off')\n",
    "        plt.show()"
   ]
  },
  {
   "cell_type": "code",
   "execution_count": 41,
   "metadata": {
    "execution": {
     "iopub.execute_input": "2021-05-11T22:47:34.353710Z",
     "iopub.status.busy": "2021-05-11T22:47:34.353156Z",
     "iopub.status.idle": "2021-05-11T22:47:34.894643Z",
     "shell.execute_reply": "2021-05-11T22:47:34.889467Z",
     "shell.execute_reply.started": "2021-05-11T22:47:34.353641Z"
    }
   },
   "outputs": [
    {
     "data": {
      "image/png": "[encoded data removed]",
      "text/plain": [
       "<Figure size 576x576 with 1 Axes>"
      ]
     },
     "metadata": {
      "needs_background": "light"
     },
     "output_type": "display_data"
    }
   ],
   "source": [
    "x = mpimg.imread('./img/clean_logo.png')\n",
    "x[x<=.1] = -1\n",
    "x[x>.1]=1\n",
    "x = x[:, :524]\n",
    "x = x[:, :, 0]\n",
    "\n",
    "metropolis_ising(T=1.7,runtime=120,grid=x)"
   ]
  },
  {
   "cell_type": "code",
   "execution_count": null,
   "metadata": {},
   "outputs": [],
   "source": []
  }
 ],
 "metadata": {
  "kernelspec": {
   "display_name": "Python 3",
   "language": "python",
   "name": "python3"
  },
  "language_info": {
   "codemirror_mode": {
    "name": "ipython",
    "version": 3
   },
   "file_extension": ".py",
   "mimetype": "text/x-python",
   "name": "python",
   "nbconvert_exporter": "python",
   "pygments_lexer": "ipython3",
   "version": "3.7.4"
  }
 },
 "nbformat": 4,
 "nbformat_minor": 4
}
